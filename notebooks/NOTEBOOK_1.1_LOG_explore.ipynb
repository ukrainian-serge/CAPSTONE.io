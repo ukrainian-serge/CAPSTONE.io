{
 "cells": [
  {
   "cell_type": "markdown",
   "metadata": {},
   "source": [
    "# LOG file explore\n",
    "---"
   ]
  },
  {
   "cell_type": "code",
   "execution_count": 1,
   "metadata": {},
   "outputs": [],
   "source": [
    "import re\n",
    "import pandas as pd\n",
    "import os"
   ]
  },
  {
   "cell_type": "code",
   "execution_count": 2,
   "metadata": {},
   "outputs": [],
   "source": [
    "def logfile_find(in_path) -> str:\n",
    "    \"\"\"\n",
    "    Returns abspath of log.txt file\n",
    "    \"\"\"\n",
    "    import os\n",
    "    for item in os.listdir(in_path):\n",
    "        if item.endswith('LOG.txt'):\n",
    "            return os.path.abspath(item)"
   ]
  },
  {
   "cell_type": "code",
   "execution_count": 3,
   "metadata": {},
   "outputs": [],
   "source": [
    "textfile = open(logfile_find('.'), 'r')\n",
    "filetext = textfile.read()\n",
    "textfile.close()"
   ]
  },
  {
   "cell_type": "code",
   "execution_count": 4,
   "metadata": {},
   "outputs": [
    {
     "name": "stdout",
     "output_type": "stream",
     "text": [
      "[3231472, 3509762, 4018793, 4280173, 4290596, 4331421, 4340267, 4341665, 4386155, 4388098, 4408027, 4442615, 4519623, 4525797, 4543519, 4587726, 4589301, 4634393, 4666168, 4725035, 4741340, 4749515, 4760314, 4781100, 4792732, 4856383, 4866949, 4873905, 4882587, 4984486, 4999513, 5042461, 5084499, 5118966, 5242122, 5267808, 5272340, 5392789, 5401043, 5558186, 5789638, 5812305, 5817900, 5829969, 5842003, 5876691, 5882689, 5909437, 6008511, 6024504, 6025541, 6065764, 6077731, 6087087, 6141216, 6284307, 6294536, 6343210, 6351051, 6356803, 6359236, 6461006, 6467831, 6469554, 6492735, 6570155, 6657117, 6743804]\n"
     ]
    }
   ],
   "source": [
    "matches = [int(i) for i in re.findall(\"(\\d{7})\", filetext)]\n",
    "print(matches)"
   ]
  },
  {
   "cell_type": "markdown",
   "metadata": {},
   "source": [
    "*Above are the list of Error Lines Skipped that we produced in [notebook_1](./notebook_1.ipynb)\n",
    "\n",
    "---\n",
    "\n",
    "## Reading .tsv file with open and checking with function\n"
   ]
  },
  {
   "cell_type": "code",
   "execution_count": 5,
   "metadata": {},
   "outputs": [],
   "source": [
    "tsv_file = '../data_collected_folder/amazon_reviews_multilingual_US_v1_00.tsv'\n",
    "f=open(tsv_file, encoding='UTF-8')\n",
    "lines=f.readlines()"
   ]
  },
  {
   "cell_type": "code",
   "execution_count": 9,
   "metadata": {},
   "outputs": [],
   "source": [
    "# testing Skipped line numbers against full file\n",
    "\n",
    "for i in matches:\n",
    "    row = lines[i-1].strip('\\n').split('\\t')\n",
    "    if len(row) != 15:\n",
    "        print(f'Bad length row {i}')"
   ]
  },
  {
   "cell_type": "code",
   "execution_count": 10,
   "metadata": {},
   "outputs": [],
   "source": [
    "# Test full .tsv file\n",
    "\n",
    "for n, i in enumerate(lines):\n",
    "    if len(i.strip('\\n').split('\\t')) != 15:\n",
    "        print(n, i)"
   ]
  },
  {
   "cell_type": "markdown",
   "metadata": {},
   "source": [
    "#### There seems to be no issues with the lines that Pandas skipped\n",
    "\n",
    "This indicats that `pandas.read_csv()` is not parsing and delimiting correctly.\n",
    "We shall consolidate the above loops into a function below. This function can be found for import in [this module](./amazon_reviews_module.py)"
   ]
  },
  {
   "cell_type": "code",
   "execution_count": null,
   "metadata": {},
   "outputs": [],
   "source": [
    "def pre_load(path, delim='\\t', encoding='UTF-8'):\n",
    "    f=open(tsv_file, encoding=encoding)\n",
    "    lines=f.readlines()\n",
    "    \n",
    "    header = lines[0].strip('\\n').lower().split(delim)\n",
    "    body = [row.strip('\\n').split(delim)]\n",
    "    \n",
    "    return header, body"
   ]
  }
 ],
 "metadata": {
  "kernelspec": {
   "display_name": "Python 3",
   "language": "python",
   "name": "python3"
  },
  "language_info": {
   "codemirror_mode": {
    "name": "ipython",
    "version": 3
   },
   "file_extension": ".py",
   "mimetype": "text/x-python",
   "name": "python",
   "nbconvert_exporter": "python",
   "pygments_lexer": "ipython3",
   "version": "3.7.5"
  }
 },
 "nbformat": 4,
 "nbformat_minor": 4
}
